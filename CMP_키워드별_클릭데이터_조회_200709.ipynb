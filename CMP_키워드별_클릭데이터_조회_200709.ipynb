{
  "nbformat": 4,
  "nbformat_minor": 0,
  "metadata": {
    "colab": {
      "name": "CMP 키워드별 클릭데이터 조회_200709.ipynb",
      "provenance": [],
      "include_colab_link": true
    },
    "kernelspec": {
      "name": "python3",
      "display_name": "Python 3"
    }
  },
  "cells": [
    {
      "cell_type": "markdown",
      "metadata": {
        "id": "view-in-github",
        "colab_type": "text"
      },
      "source": [
        "<a href=\"https://colab.research.google.com/github/gracecho-study/2020-study/blob/master/CMP_%ED%82%A4%EC%9B%8C%EB%93%9C%EB%B3%84_%ED%81%B4%EB%A6%AD%EB%8D%B0%EC%9D%B4%ED%84%B0_%EC%A1%B0%ED%9A%8C_200709.ipynb\" target=\"_parent\"><img src=\"https://colab.research.google.com/assets/colab-badge.svg\" alt=\"Open In Colab\"/></a>"
      ]
    },
    {
      "cell_type": "markdown",
      "metadata": {
        "id": "_DHbSkN53iIE",
        "colab_type": "text"
      },
      "source": [
        "환경 세팅 (Shift+Enter)"
      ]
    },
    {
      "cell_type": "code",
      "metadata": {
        "id": "F02Xfh3yzTLV",
        "colab_type": "code",
        "colab": {}
      },
      "source": [
        "import pandas as pd\n",
        "import numpy as np\n",
        "import matplotlib.pyplot as plt"
      ],
      "execution_count": null,
      "outputs": []
    },
    {
      "cell_type": "code",
      "metadata": {
        "id": "74hoXfbqu1OG",
        "colab_type": "code",
        "colab": {
          "base_uri": "https://localhost:8080/",
          "height": 55
        },
        "outputId": "9393d18c-7395-48c3-c3ae-b117de8852c1"
      },
      "source": [
        "df = pd.read_csv('유저쿼리 상위 1만_v3.csv', delimiter=',', header=0, sep='delimiter', encoding='utf-8', error_bad_lines=False, low_memory=False)"
      ],
      "execution_count": null,
      "outputs": [
        {
          "output_type": "stream",
          "text": [
            "b'Skipping line 1129: expected 14 fields, saw 16\\nSkipping line 1134: expected 14 fields, saw 16\\nSkipping line 4769: expected 14 fields, saw 15\\nSkipping line 13116: expected 14 fields, saw 15\\nSkipping line 14318: expected 14 fields, saw 15\\nSkipping line 15073: expected 14 fields, saw 15\\nSkipping line 15075: expected 14 fields, saw 15\\nSkipping line 15076: expected 14 fields, saw 15\\nSkipping line 15077: expected 14 fields, saw 15\\nSkipping line 15079: expected 14 fields, saw 15\\nSkipping line 15081: expected 14 fields, saw 15\\nSkipping line 15083: expected 14 fields, saw 15\\nSkipping line 15084: expected 14 fields, saw 15\\nSkipping line 15085: expected 14 fields, saw 15\\nSkipping line 15086: expected 14 fields, saw 15\\nSkipping line 15087: expected 14 fields, saw 15\\nSkipping line 15088: expected 14 fields, saw 15\\nSkipping line 15089: expected 14 fields, saw 15\\nSkipping line 15090: expected 14 fields, saw 15\\nSkipping line 15098: expected 14 fields, saw 16\\nSkipping line 15099: expected 14 fields, saw 16\\nSkipping line 16038: expected 14 fields, saw 16\\nSkipping line 16040: expected 14 fields, saw 16\\nSkipping line 22445: expected 14 fields, saw 16\\nSkipping line 22446: expected 14 fields, saw 16\\nSkipping line 25907: expected 14 fields, saw 15\\nSkipping line 30849: expected 14 fields, saw 15\\nSkipping line 36335: expected 14 fields, saw 15\\nSkipping line 36336: expected 14 fields, saw 15\\nSkipping line 36337: expected 14 fields, saw 15\\nSkipping line 36339: expected 14 fields, saw 15\\nSkipping line 36340: expected 14 fields, saw 15\\nSkipping line 36341: expected 14 fields, saw 15\\nSkipping line 36342: expected 14 fields, saw 15\\nSkipping line 36343: expected 14 fields, saw 15\\nSkipping line 36344: expected 14 fields, saw 15\\nSkipping line 36345: expected 14 fields, saw 15\\nSkipping line 36346: expected 14 fields, saw 15\\nSkipping line 36347: expected 14 fields, saw 15\\nSkipping line 36348: expected 14 fields, saw 15\\nSkipping line 36349: expected 14 fields, saw 15\\nSkipping line 36350: expected 14 fields, saw 15\\nSkipping line 36351: expected 14 fields, saw 15\\nSkipping line 36352: expected 14 fields, saw 15\\nSkipping line 36354: expected 14 fields, saw 15\\nSkipping line 36355: expected 14 fields, saw 15\\nSkipping line 39665: expected 14 fields, saw 16\\nSkipping line 39667: expected 14 fields, saw 16\\nSkipping line 41305: expected 14 fields, saw 16\\nSkipping line 41307: expected 14 fields, saw 16\\nSkipping line 45511: expected 14 fields, saw 16\\nSkipping line 49306: expected 14 fields, saw 15\\nSkipping line 80861: expected 14 fields, saw 15\\nSkipping line 80862: expected 14 fields, saw 15\\nSkipping line 80863: expected 14 fields, saw 15\\nSkipping line 80865: expected 14 fields, saw 15\\nSkipping line 80866: expected 14 fields, saw 15\\nSkipping line 80867: expected 14 fields, saw 15\\nSkipping line 80868: expected 14 fields, saw 15\\nSkipping line 80869: expected 14 fields, saw 15\\nSkipping line 80871: expected 14 fields, saw 15\\nSkipping line 80872: expected 14 fields, saw 15\\nSkipping line 80873: expected 14 fields, saw 15\\nSkipping line 80876: expected 14 fields, saw 15\\nSkipping line 85308: expected 14 fields, saw 15\\nSkipping line 90231: expected 14 fields, saw 15\\nSkipping line 90232: expected 14 fields, saw 15\\nSkipping line 90233: expected 14 fields, saw 16\\nSkipping line 90234: expected 14 fields, saw 15\\nSkipping line 90235: expected 14 fields, saw 15\\nSkipping line 90238: expected 14 fields, saw 15\\nSkipping line 90239: expected 14 fields, saw 16\\nSkipping line 90240: expected 14 fields, saw 16\\nSkipping line 90241: expected 14 fields, saw 15\\nSkipping line 90242: expected 14 fields, saw 16\\nSkipping line 90243: expected 14 fields, saw 15\\nSkipping line 90244: expected 14 fields, saw 16\\nSkipping line 90245: expected 14 fields, saw 15\\nSkipping line 90246: expected 14 fields, saw 16\\nSkipping line 90248: expected 14 fields, saw 15\\nSkipping line 90249: expected 14 fields, saw 15\\nSkipping line 90250: expected 14 fields, saw 15\\nSkipping line 90251: expected 14 fields, saw 15\\nSkipping line 90252: expected 14 fields, saw 15\\nSkipping line 93006: expected 14 fields, saw 15\\nSkipping line 93007: expected 14 fields, saw 16\\nSkipping line 104255: expected 14 fields, saw 16\\nSkipping line 104256: expected 14 fields, saw 16\\nSkipping line 104257: expected 14 fields, saw 16\\nSkipping line 104259: expected 14 fields, saw 15\\nSkipping line 104265: expected 14 fields, saw 16\\nSkipping line 109460: expected 14 fields, saw 15\\nSkipping line 109461: expected 14 fields, saw 16\\nSkipping line 117678: expected 14 fields, saw 16\\nSkipping line 117680: expected 14 fields, saw 16\\nSkipping line 133947: expected 14 fields, saw 15\\nSkipping line 133948: expected 14 fields, saw 15\\nSkipping line 133949: expected 14 fields, saw 15\\nSkipping line 133950: expected 14 fields, saw 15\\nSkipping line 144233: expected 14 fields, saw 15\\nSkipping line 144234: expected 14 fields, saw 15\\nSkipping line 144236: expected 14 fields, saw 15\\nSkipping line 148589: expected 14 fields, saw 16\\nSkipping line 155837: expected 14 fields, saw 15\\nSkipping line 168755: expected 14 fields, saw 15\\nSkipping line 168756: expected 14 fields, saw 15\\nSkipping line 168757: expected 14 fields, saw 15\\nSkipping line 168758: expected 14 fields, saw 15\\nSkipping line 168759: expected 14 fields, saw 15\\nSkipping line 168761: expected 14 fields, saw 15\\nSkipping line 168762: expected 14 fields, saw 15\\nSkipping line 168763: expected 14 fields, saw 15\\nSkipping line 168764: expected 14 fields, saw 15\\nSkipping line 168765: expected 14 fields, saw 15\\nSkipping line 168766: expected 14 fields, saw 15\\nSkipping line 168767: expected 14 fields, saw 15\\nSkipping line 168768: expected 14 fields, saw 15\\nSkipping line 168770: expected 14 fields, saw 15\\nSkipping line 168771: expected 14 fields, saw 15\\nSkipping line 168772: expected 14 fields, saw 15\\nSkipping line 168773: expected 14 fields, saw 15\\nSkipping line 175772: expected 14 fields, saw 16\\nSkipping line 175773: expected 14 fields, saw 15\\nSkipping line 179936: expected 14 fields, saw 15\\nSkipping line 179937: expected 14 fields, saw 15\\nSkipping line 187711: expected 14 fields, saw 16\\nSkipping line 187713: expected 14 fields, saw 16\\nSkipping line 187715: expected 14 fields, saw 15\\nSkipping line 189215: expected 14 fields, saw 15\\nSkipping line 189216: expected 14 fields, saw 15\\nSkipping line 190960: expected 14 fields, saw 15\\nSkipping line 194608: expected 14 fields, saw 15\\nSkipping line 194609: expected 14 fields, saw 15\\nSkipping line 194610: expected 14 fields, saw 15\\nSkipping line 194611: expected 14 fields, saw 15\\nSkipping line 194612: expected 14 fields, saw 15\\nSkipping line 194613: expected 14 fields, saw 15\\nSkipping line 194614: expected 14 fields, saw 15\\nSkipping line 194615: expected 14 fields, saw 15\\nSkipping line 194616: expected 14 fields, saw 15\\n'\n"
          ],
          "name": "stderr"
        }
      ]
    },
    {
      "cell_type": "markdown",
      "metadata": {
        "id": "tjyRa4lg3JH2",
        "colab_type": "text"
      },
      "source": [
        "## query = '검색어' << 를 입력 후 실행해주세요. (Shift + Enter)"
      ]
    },
    {
      "cell_type": "code",
      "metadata": {
        "id": "x9JS4EDz3F1I",
        "colab_type": "code",
        "colab": {}
      },
      "source": [
        "query = '다이아몬드반지' "
      ],
      "execution_count": null,
      "outputs": []
    },
    {
      "cell_type": "code",
      "metadata": {
        "id": "I0hlcI_W3Ee5",
        "colab_type": "code",
        "colab": {
          "base_uri": "https://localhost:8080/",
          "height": 204
        },
        "outputId": "2cf09a18-3324-44ca-8b31-935b29fa18ac"
      },
      "source": [
        "is_query = df['no_sp_kwd'] == query\n",
        "cmp_target = df['cmp_score'] >= 1\n",
        "\n",
        "cmp_data = df[is_query & cmp_target]\n",
        "cmp_data.loc[:,['no_sp_kwd', 'l_cate_nm', 'm_cate_nm', 's_cate_nm', 'd_cate_nm', 'cmp_score', 'cc',\n",
        "       'unifd_cc', 'unifd_sc', 'unifd_ctr']]"
      ],
      "execution_count": null,
      "outputs": [
        {
          "output_type": "execute_result",
          "data": {
            "text/html": [
              "<div>\n",
              "<style scoped>\n",
              "    .dataframe tbody tr th:only-of-type {\n",
              "        vertical-align: middle;\n",
              "    }\n",
              "\n",
              "    .dataframe tbody tr th {\n",
              "        vertical-align: top;\n",
              "    }\n",
              "\n",
              "    .dataframe thead th {\n",
              "        text-align: right;\n",
              "    }\n",
              "</style>\n",
              "<table border=\"1\" class=\"dataframe\">\n",
              "  <thead>\n",
              "    <tr style=\"text-align: right;\">\n",
              "      <th></th>\n",
              "      <th>no_sp_kwd</th>\n",
              "      <th>l_cate_nm</th>\n",
              "      <th>m_cate_nm</th>\n",
              "      <th>s_cate_nm</th>\n",
              "      <th>d_cate_nm</th>\n",
              "      <th>cmp_score</th>\n",
              "      <th>cc</th>\n",
              "      <th>unifd_cc</th>\n",
              "      <th>unifd_sc</th>\n",
              "      <th>unifd_ctr</th>\n",
              "    </tr>\n",
              "  </thead>\n",
              "  <tbody>\n",
              "    <tr>\n",
              "      <th>1080</th>\n",
              "      <td>노트북</td>\n",
              "      <td>노트북/데스크탑</td>\n",
              "      <td>노트북</td>\n",
              "      <td>일반 노트북</td>\n",
              "      <td>LG</td>\n",
              "      <td>10.0</td>\n",
              "      <td>18342</td>\n",
              "      <td>36590</td>\n",
              "      <td>104674</td>\n",
              "      <td>3.5</td>\n",
              "    </tr>\n",
              "    <tr>\n",
              "      <th>1081</th>\n",
              "      <td>노트북</td>\n",
              "      <td>노트북/데스크탑</td>\n",
              "      <td>노트북</td>\n",
              "      <td>일반 노트북</td>\n",
              "      <td>삼성</td>\n",
              "      <td>2.4</td>\n",
              "      <td>4451</td>\n",
              "      <td>36590</td>\n",
              "      <td>104674</td>\n",
              "      <td>3.5</td>\n",
              "    </tr>\n",
              "    <tr>\n",
              "      <th>1082</th>\n",
              "      <td>노트북</td>\n",
              "      <td>노트북/데스크탑</td>\n",
              "      <td>노트북</td>\n",
              "      <td>일반 노트북</td>\n",
              "      <td>Lenovo</td>\n",
              "      <td>1.7</td>\n",
              "      <td>3170</td>\n",
              "      <td>36590</td>\n",
              "      <td>104674</td>\n",
              "      <td>3.5</td>\n",
              "    </tr>\n",
              "    <tr>\n",
              "      <th>1083</th>\n",
              "      <td>노트북</td>\n",
              "      <td>노트북/데스크탑</td>\n",
              "      <td>노트북</td>\n",
              "      <td>일반 노트북</td>\n",
              "      <td>HP</td>\n",
              "      <td>1.6</td>\n",
              "      <td>2950</td>\n",
              "      <td>36590</td>\n",
              "      <td>104674</td>\n",
              "      <td>3.5</td>\n",
              "    </tr>\n",
              "    <tr>\n",
              "      <th>1084</th>\n",
              "      <td>노트북</td>\n",
              "      <td>노트북/데스크탑</td>\n",
              "      <td>노트북</td>\n",
              "      <td>일반 노트북</td>\n",
              "      <td>ASUS</td>\n",
              "      <td>1.2</td>\n",
              "      <td>2148</td>\n",
              "      <td>36590</td>\n",
              "      <td>104674</td>\n",
              "      <td>3.5</td>\n",
              "    </tr>\n",
              "  </tbody>\n",
              "</table>\n",
              "</div>"
            ],
            "text/plain": [
              "     no_sp_kwd l_cate_nm m_cate_nm  ... unifd_cc unifd_sc  unifd_ctr\n",
              "1080       노트북  노트북/데스크탑       노트북  ...    36590   104674        3.5\n",
              "1081       노트북  노트북/데스크탑       노트북  ...    36590   104674        3.5\n",
              "1082       노트북  노트북/데스크탑       노트북  ...    36590   104674        3.5\n",
              "1083       노트북  노트북/데스크탑       노트북  ...    36590   104674        3.5\n",
              "1084       노트북  노트북/데스크탑       노트북  ...    36590   104674        3.5\n",
              "\n",
              "[5 rows x 10 columns]"
            ]
          },
          "metadata": {
            "tags": []
          },
          "execution_count": 13
        }
      ]
    },
    {
      "cell_type": "code",
      "metadata": {
        "id": "WZyApdK6zWnr",
        "colab_type": "code",
        "colab": {
          "resources": {
            "http://localhost:8080/nbextensions/google.colab/files.js": {
              "data": "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",
              "ok": true,
              "headers": [
                [
                  "content-type",
                  "application/javascript"
                ]
              ],
              "status": 200,
              "status_text": ""
            }
          },
          "base_uri": "https://localhost:8080/",
          "height": 76
        },
        "outputId": "a2e7fc9c-4aa3-4535-e835-70700324a3a0"
      },
      "source": [
        "from google.colab import files\n",
        "\n",
        "files.upload()"
      ],
      "execution_count": null,
      "outputs": [
        {
          "output_type": "display_data",
          "data": {
            "text/html": [
              "\n",
              "     <input type=\"file\" id=\"files-71158d11-1d94-470b-b410-0256704e5ff8\" name=\"files[]\" multiple disabled\n",
              "        style=\"border:none\" />\n",
              "     <output id=\"result-71158d11-1d94-470b-b410-0256704e5ff8\">\n",
              "      Upload widget is only available when the cell has been executed in the\n",
              "      current browser session. Please rerun this cell to enable.\n",
              "      </output>\n",
              "      <script src=\"/nbextensions/google.colab/files.js\"></script> "
            ],
            "text/plain": [
              "<IPython.core.display.HTML object>"
            ]
          },
          "metadata": {
            "tags": []
          }
        },
        {
          "output_type": "stream",
          "text": [
            "Saving 유저쿼리 상위 1만_v3.csv to 유저쿼리 상위 1만_v3.csv\n"
          ],
          "name": "stdout"
        }
      ]
    },
    {
      "cell_type": "code",
      "metadata": {
        "id": "bAZf-y5X0Fag",
        "colab_type": "code",
        "colab": {}
      },
      "source": [
        ""
      ],
      "execution_count": null,
      "outputs": []
    }
  ]
}